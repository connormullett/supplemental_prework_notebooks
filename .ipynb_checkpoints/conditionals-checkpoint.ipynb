{
 "cells": [
  {
   "cell_type": "markdown",
   "metadata": {},
   "source": [
    "# If Statements and Conditionals"
   ]
  },
  {
   "cell_type": "markdown",
   "metadata": {},
   "source": [
    "## Comparison Operators"
   ]
  },
  {
   "cell_type": "markdown",
   "metadata": {},
   "source": [
    "Comparison operators are symbols that are used to *compare* two things. The following List will be a brief overview of what these operators are"
   ]
  },
  {
   "cell_type": "markdown",
   "metadata": {},
   "source": [
    "* `>`    - greater than\n",
    "* `<`    - less than\n",
    "* `>=` - greater than or equal to\n",
    "* `<=` - less than or equal to\n",
    "* `==` - equal to"
   ]
  },
  {
   "cell_type": "markdown",
   "metadata": {},
   "source": [
    "We can use these opreations to check equality, equality, or both. These are called conditions"
   ]
  },
  {
   "cell_type": "markdown",
   "metadata": {},
   "source": [
    "## What are conditions?\n",
    "\n",
    "Conditions are statements that result in a true or a false value. For example 3 > 5 is false, this is a false condition. On the other hand 5 > 3 is true. We can represent these values as variables, they are called booleans. Booleans are just True or False, that's it. Let's see how we create booleans"
   ]
  },
  {
   "cell_type": "code",
   "execution_count": 3,
   "metadata": {},
   "outputs": [
    {
     "name": "stdout",
     "output_type": "stream",
     "text": [
      "True\n",
      "False\n"
     ]
    }
   ],
   "source": [
    "true_value = True\n",
    "false_value = False\n",
    "\n",
    "print(true_value)\n",
    "print(false_value)"
   ]
  },
  {
   "cell_type": "markdown",
   "metadata": {},
   "source": [
    "Pretty simple, we just assign a True or False value to a new variable and that variable is a boolean. Let's look at more real world examples, like comparing variables to each other that we may not know what they are"
   ]
  },
  {
   "cell_type": "code",
   "execution_count": 2,
   "metadata": {},
   "outputs": [
    {
     "name": "stdout",
     "output_type": "stream",
     "text": [
      "False\n"
     ]
    }
   ],
   "source": [
    "x = 5\n",
    "y = 6\n",
    "\n",
    "condition = x > y  # x is NOT greater than y so\n",
    "print(condition)"
   ]
  },
  {
   "cell_type": "markdown",
   "metadata": {},
   "source": [
    "## The if Statement\n",
    "\n",
    "It's all fine and dandy that we have a conditional variable now but how do we use them? One example is using what we call __Conditional Logic__. This is how we can separate code based on if something is True or False. The syntax is pretty easy, but let's see it first"
   ]
  },
  {
   "cell_type": "code",
   "execution_count": 4,
   "metadata": {},
   "outputs": [
    {
     "name": "stdout",
     "output_type": "stream",
     "text": [
      "x is greater than 10\n"
     ]
    }
   ],
   "source": [
    "x = 10\n",
    "y = 6\n",
    "\n",
    "if x > y:  # REMEMBER THE COLON\n",
    "    print('x is greater than 10')  # notice the indentation, this is important"
   ]
  },
  {
   "cell_type": "markdown",
   "metadata": {},
   "source": [
    "Let's break this down. In the first two lines we declare two variables, x and y. X and y hold numbers. Then we jump down and we see `if`. This block of code reads as follows: 'if something is true, do everything that is indented below'. In our example, we can read it as this, 'if x is greater than y, do the code below that is indented'. So because x (10) is greater than y (6), python will execute the line(s) underneath that is indented.\n",
    "\n",
    "\n",
    "NOTE:  \n",
    "Python is **white-space sensitive**. This means that python reads blocks of code by indent. If your indentation is wrong, your code will not work."
   ]
  },
  {
   "cell_type": "markdown",
   "metadata": {},
   "source": [
    "Let's demonstrate that again but the opposite. We will also add something after to show off how tabs separate code. "
   ]
  },
  {
   "cell_type": "code",
   "execution_count": 1,
   "metadata": {},
   "outputs": [
    {
     "name": "stdout",
     "output_type": "stream",
     "text": [
      "done\n"
     ]
    }
   ],
   "source": [
    "x = 10\n",
    "y = 6\n",
    "\n",
    "if x < y:  # if x is less than y\n",
    "    print('x is less than y')  # do this\n",
    "print('done')"
   ]
  },
  {
   "cell_type": "markdown",
   "metadata": {},
   "source": [
    "When we run our file now, we don't see `x is less than 10`. This is because x is not less than 10. So Python skips over everything that is indented and continues on to where the indentation stops. That is why we see `done` as our output. \n",
    "\n",
    "### Challenge\n",
    "Try rewriting the code above to make `x is less than y` show up in the console, in your own Python file"
   ]
  },
  {
   "cell_type": "markdown",
   "metadata": {},
   "source": [
    "## Else If"
   ]
  },
  {
   "cell_type": "markdown",
   "metadata": {},
   "source": [
    "What if we have more than one thing to check? Well one solution is to just have a lot of if statements and keep chaining them. Lets take for instance that we want to have someones age and check it for different conditions. Let's say driving. Take the following example"
   ]
  },
  {
   "cell_type": "code",
   "execution_count": 3,
   "metadata": {},
   "outputs": [
    {
     "name": "stdout",
     "output_type": "stream",
     "text": [
      "you can drive with restrictions\n",
      "you can drive on your own\n"
     ]
    }
   ],
   "source": [
    "age = 25\n",
    "\n",
    "if age > 15:\n",
    "    print('you can drive with restrictions')\n",
    "    \n",
    "if age > 16:\n",
    "    print('you can drive on your own')\n",
    "    \n",
    "if age < 15:\n",
    "    print('you cannot drive')"
   ]
  },
  {
   "cell_type": "markdown",
   "metadata": {},
   "source": [
    "Play around with different values for age. As you can see it works relatively correctly. However, we run into the problem that whenever age is greater than 15 it displays two things. This is because all of these statements are individual pieces, not one piece. To fix this, we use a new term called an `else if`. This is going to extend an if statement when we need to check multiple things, such as 3 different driving age ranges. Let's see how that looks"
   ]
  },
  {
   "cell_type": "code",
   "execution_count": 4,
   "metadata": {},
   "outputs": [
    {
     "name": "stdout",
     "output_type": "stream",
     "text": [
      "you can drive with restrictions\n"
     ]
    }
   ],
   "source": [
    "age = 25\n",
    "\n",
    "if age > 15:\n",
    "    print('you can drive with restrictions')\n",
    "elif age > 16:  # else if\n",
    "    print('you can drive on your own')\n",
    "elif age < 15:\n",
    "    print('you cannot drive')"
   ]
  },
  {
   "cell_type": "markdown",
   "metadata": {},
   "source": [
    "This still causes some issues. We see that now any number greater than 15 will trigger the first one and thats it. That's because Python reads from top to bottom and will always execute a true `if` statement. No exceptions. This also means that if something else is true, `using elif`, that will be skipped over in the same process. This is to show to be weary of how we structure our code. Right now every number greater than 15 will always say `you can drive with restrictions`, even if we want it to say `you can drive on your own`. Let's fix that"
   ]
  },
  {
   "cell_type": "code",
   "execution_count": 6,
   "metadata": {},
   "outputs": [
    {
     "name": "stdout",
     "output_type": "stream",
     "text": [
      "you can drive on your own\n"
     ]
    }
   ],
   "source": [
    "age = 25\n",
    "\n",
    "if age > 16:\n",
    "    print('you can drive on your own')\n",
    "elif age > 15:  # else if\n",
    "    print('you can drive with restrictions')\n",
    "elif age < 15:\n",
    "    print('you cannot drive')"
   ]
  },
  {
   "cell_type": "markdown",
   "metadata": {},
   "source": [
    "As you can see, all we did was switch around the order to descending and that solves our problem"
   ]
  },
  {
   "cell_type": "markdown",
   "metadata": {},
   "source": [
    "## The Else clause\n",
    "\n",
    "The `else` clause is our final structural component for control flow. The `else` is similar to elif, however it doesn't contain an expression. It is there to catch all other cases. If an `if` block gets to an `else` clause, it will _always_ execute the else statement"
   ]
  },
  {
   "cell_type": "code",
   "execution_count": 7,
   "metadata": {},
   "outputs": [
    {
     "name": "stdout",
     "output_type": "stream",
     "text": [
      "you cannot drive\n"
     ]
    }
   ],
   "source": [
    "can_drive = False\n",
    "\n",
    "if can_drive:  # more on what this means below\n",
    "    print('you can drive')\n",
    "else:\n",
    "    print('you cannot drive')"
   ]
  },
  {
   "cell_type": "markdown",
   "metadata": {},
   "source": [
    "look at the following line\n",
    "\n",
    "`if can_drive`\n",
    "\n",
    "What do we think this does? We know that booleans exist, and we know that if statements fire if true. `can_drive` is a boolean. So that means we can use just the variable to determine its condition. If this variable holds the boolean value of true, do the if statement. We also have our else statement just in case the value is false. This will tie into our next and final segment of this module, truthyness and falseyness"
   ]
  },
  {
   "cell_type": "markdown",
   "metadata": {},
   "source": [
    "## Trutheyness and Falseyness\n",
    "\n",
    " We know that variables can be true or false, and we know that variables can be strings or numbers. But, what if I told you strings and numbers can hold a boolean value based on what it contains? Take the following code for example"
   ]
  },
  {
   "cell_type": "code",
   "execution_count": 9,
   "metadata": {},
   "outputs": [
    {
     "name": "stdout",
     "output_type": "stream",
     "text": [
      "one is truthy\n",
      "hello is truthey\n"
     ]
    }
   ],
   "source": [
    "if 0:  # if zero\n",
    "    print('zero is truthy')\n",
    "\n",
    "if 1:  # if one\n",
    "    print('one is truthy')\n",
    "    \n",
    "if '':  # empty string\n",
    "    print('empty string is truthey')\n",
    "\n",
    "if 'hello':  # hello as a string\n",
    "    print('hello is truthey')"
   ]
  },
  {
   "cell_type": "markdown",
   "metadata": {},
   "source": [
    "Notice how we are performing conditional operations (if statements), on numbers. This is because of the concept  of truthey/falsey values. Zero is falsey, it has no value. On the other hand, one has a value so it is truthey. The same can be seen with strings. An empty string will be evaluated as false as it has no value, and a string that has an actual length"
   ]
  }
 ],
 "metadata": {
  "kernelspec": {
   "display_name": "Python 3",
   "language": "python",
   "name": "python3"
  },
  "language_info": {
   "codemirror_mode": {
    "name": "ipython",
    "version": 3
   },
   "file_extension": ".py",
   "mimetype": "text/x-python",
   "name": "python",
   "nbconvert_exporter": "python",
   "pygments_lexer": "ipython3",
   "version": "3.7.3"
  }
 },
 "nbformat": 4,
 "nbformat_minor": 2
}
