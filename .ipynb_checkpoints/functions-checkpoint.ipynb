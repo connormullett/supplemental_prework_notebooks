{
 "cells": [
  {
   "cell_type": "markdown",
   "metadata": {},
   "source": [
    "Functions are the verbs of our programs. They are blocks of organized chunks for reusable code that perform a certain set of instructions.\n",
    "\n",
    "As a general rule, functions should do one thing and reusable. We'll see what this means later. "
   ]
  },
  {
   "cell_type": "markdown",
   "metadata": {},
   "source": [
    "## Using Functions\n",
    "\n",
    "Functions are easy to use and have already been using them. `print()`, is a function. When we use print, you may have noticed that we place parenthesis after `print`. This is called `calling` the function. If we don't have the parenthesis there's no way to execute the function. We'll see this later. \n",
    "\n",
    "So far, whenever we wanted to use `print`, we give it a string or variable to print and placed it inside of the parenthesis. These are called `parameters`. They are what we give functions. \n",
    "\n",
    "To write a function, we need to talk about the `def` keyword. `Def` means _define_. They tell Python that we are defining a function and Python will change the way it reads the next block of code. Let's create a function that says hello and talk about the syntax "
   ]
  },
  {
   "cell_type": "code",
   "execution_count": null,
   "metadata": {},
   "outputs": [],
   "source": [
    "\n",
    "#1  #2       #3\n",
    "def say_hello():  # function signature\n",
    "    print('Hello') # function body\n",
    "\n",
    "# 1 - This is def keyword, it tells python this is a function\n",
    "# 2 - `say_hello` is the name of our function and python will treat\n",
    "#   - it as such\n",
    "# 3 - These parenthesis are were we store arguments, we'll use these later\n",
    "# function signature - this what defines the function\n",
    "# function body - everything inside the function"
   ]
  },
  {
   "cell_type": "markdown",
   "metadata": {},
   "source": [
    "## IMPORTANT\n",
    "Functions end when the indentation ends, just like for loops and if statements. \n",
    "\n",
    "## ALSO IMPORTANT\n",
    "Functions DO NOT get run when they are created. They get put in memory and are saved for a later time. In order to run a function, We need to call it."
   ]
  },
  {
   "cell_type": "markdown",
   "metadata": {},
   "source": [
    "Now that we know how to create our own functions, let's call it"
   ]
  },
  {
   "cell_type": "code",
   "execution_count": null,
   "metadata": {},
   "outputs": [],
   "source": [
    "say_hello() # <-- use the name with parenthesis to call function"
   ]
  },
  {
   "cell_type": "markdown",
   "metadata": {},
   "source": [
    "We should see `Hello` appear as our ouptut. That's because this function just prints `Hello` to the terminal. \n",
    "\n",
    "We can Think of functions as blocks of code waiting to fire. When a function is called it goes to where the function is, performs that task, and immediately goes back to where it left off, where it was called. "
   ]
  },
  {
   "cell_type": "markdown",
   "metadata": {},
   "source": [
    "## Arguments and Parameters\n",
    "\n",
    "We talked about putting variables and data in our functions. The `print` function does it and looks like this\n",
    "\n",
    "`print('hello world')`\n",
    "\n",
    "`hello world` is a parameter that is getting `passed in` to the print function. The print function will accept the parameters and do what it needs to do. That's why it prints what we want. We give the function what it needs to run.\n",
    "\n",
    "An `argument` is what a function is expecting in order to run. Let's define a function that uses arguments to see what we are talking about."
   ]
  },
  {
   "cell_type": "code",
   "execution_count": null,
   "metadata": {},
   "outputs": [],
   "source": [
    "\n",
    "def add_two_numbers(number_one, number_two):\n",
    "    output_sum = number_one + number_two\n",
    "    print(output_sum)\n"
   ]
  },
  {
   "cell_type": "markdown",
   "metadata": {},
   "source": [
    "This function declares two arguments, `number_one` and `number_two`. These are variables declared by the function and given value when we call our function. These are independant of each call to the function, and will disappear when the function ends. Now, let's call the function and see the syntax for calling it"
   ]
  },
  {
   "cell_type": "code",
   "execution_count": null,
   "metadata": {},
   "outputs": [],
   "source": [
    "add_two_numbers(12, 10)"
   ]
  },
  {
   "cell_type": "markdown",
   "metadata": {},
   "source": [
    "As you can see, when we call our function, we have to give it the arguments it requires as parameters. If we don't, Python will yell at us and an error will occur which will stop the program from running. 12 will go to number_one, and 10 will go to number_two. Now, let's call our function repeatedly and see what happens"
   ]
  },
  {
   "cell_type": "code",
   "execution_count": null,
   "metadata": {},
   "outputs": [],
   "source": [
    "add_two_numbers(1, 2)\n",
    "add_two_numbers(3, 4)"
   ]
  },
  {
   "cell_type": "markdown",
   "metadata": {},
   "source": [
    "This is what it means to create reuseable functions. We can repeat it multiple times and we know that the function is going to print the sum of two numbers. It doesn't matter what two numbers we give it, it will print the sum"
   ]
  },
  {
   "cell_type": "markdown",
   "metadata": {},
   "source": [
    "## Returns\n",
    "\n",
    "So far we have only printed the output of functions. But how do we save that value to a variable? How do we take that sum from `add_two_numbers` and give the sum to another function? We use the `return` keyword. This keyword _returns_ a value to where it was called. In short, it allows us to assign a variable to a function call. Take a look at the following"
   ]
  },
  {
   "cell_type": "code",
   "execution_count": null,
   "metadata": {},
   "outputs": [],
   "source": [
    "def multiply(x, y):\n",
    "    output = x * y\n",
    "    return output\n",
    "\n",
    "product = multiply(4, 4)\n",
    "print(product)"
   ]
  },
  {
   "cell_type": "markdown",
   "metadata": {},
   "source": [
    "Notice that the print statement is outside of the function. This is because the function _returns_ the value to where it was called. This means `product = multiply(4, 4)` turns into `product = 16`, which looks just like a regular variable assignment. Then, we can print the product. We can return anything from a function, if we return a boolean, we can use that in an if statement. Check it out"
   ]
  },
  {
   "cell_type": "code",
   "execution_count": null,
   "metadata": {},
   "outputs": [],
   "source": [
    "def get_true():\n",
    "    return True\n",
    "\n",
    "if get_true():  # notice the same syntax, just a function call instead\n",
    "    print('the function returned true')"
   ]
  }
 ],
 "metadata": {
  "kernelspec": {
   "display_name": "Python 3",
   "language": "python",
   "name": "python3"
  },
  "language_info": {
   "codemirror_mode": {
    "name": "ipython",
    "version": 3
   },
   "file_extension": ".py",
   "mimetype": "text/x-python",
   "name": "python",
   "nbconvert_exporter": "python",
   "pygments_lexer": "ipython3",
   "version": "3.7.3"
  }
 },
 "nbformat": 4,
 "nbformat_minor": 2
}
